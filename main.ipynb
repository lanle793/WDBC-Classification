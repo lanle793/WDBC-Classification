{
 "cells": [
  {
   "cell_type": "code",
   "execution_count": 6,
   "metadata": {},
   "outputs": [
    {
     "data": {
      "image/png": "[encoded data removed]",
      "text/plain": [
       "<Figure size 432x288 with 1 Axes>"
      ]
     },
     "metadata": {},
     "output_type": "display_data"
    },
    {
     "name": "stdout",
     "output_type": "stream",
     "text": [
      "Accuracy score on validation set: 0.9298245614035088 \n",
      "\n",
      "Accuracy score on test set: 0.8245614035087719\n",
      "Precision score on test set: 0.9230769230769231\n",
      "Recall score on test set: 0.5714285714285714\n"
     ]
    }
   ],
   "source": [
    "# Lan Le - UB Person Number: 50322056\n",
    "# CSE574 Project 1: Logistic Regression\n",
    "\n",
    "\n",
    "\n",
    "import pandas as pd\n",
    "import numpy as np\n",
    "import matplotlib.pyplot as plt\n",
    "import os\n",
    "from sklearn.model_selection import train_test_split\n",
    "from sklearn.metrics import accuracy_score, recall_score, precision_score\n",
    "from sklearn import preprocessing\n",
    "\n",
    "\n",
    "# save file path to variable\n",
    "base_dir = os.path.dirname('__file__')\n",
    "wdbc_file_path = os.path.join(base_dir, 'input/wdbc.csv')\n",
    "\n",
    "# read the data and store in Pandas Dataframe\n",
    "wdbc_data = pd.read_csv(wdbc_file_path)\n",
    "\n",
    "# select prediction target and features\n",
    "feature_X = wdbc_data.iloc[ : , 2 :]\n",
    "target_y = wdbc_data.iloc[ : , 1]\n",
    "\n",
    "# replace labels with 0s and 1s\n",
    "target_y = target_y.replace('M' , 1)\n",
    "target_y = target_y.replace('B' , 0)\n",
    "\n",
    "# split data into training, validation, and test data\n",
    "train_X, test_val_X, train_y, test_val_y = train_test_split(feature_X, target_y, test_size = 0.2, random_state = 0)\n",
    "val_X, test_X, val_y, test_y = train_test_split(test_val_X, test_val_y, test_size = 0.5, random_state = 0)\n",
    "\n",
    "# normalize the dataset\n",
    "train_X = preprocessing.normalize(train_X)\n",
    "norm_val_X = preprocessing.normalize(val_X)\n",
    "\n",
    "# define Sigmoid function\n",
    "def sigmoid(z):\n",
    "    return (1/(1 + np.exp(-z)))\n",
    "\n",
    "# train using logistic regression\n",
    "train_X = train_X.T\n",
    "train_y = train_y.values.reshape(1, train_y.shape[0])\n",
    "norm_val_X = norm_val_X.T\n",
    "val_y = val_y.values.reshape(1, val_y.shape[0])\n",
    "\n",
    "train_losstrack = []\n",
    "val_losstrack = []\n",
    "learning_rate = 0.1\n",
    "epochs = 15000\n",
    "m = train_X.shape[1]\n",
    "val_m = norm_val_X.shape[1]\n",
    "w = np.random.randn(train_X.shape[0], 1)*0.01\n",
    "b = 0\n",
    "\n",
    "for epoch in range(epochs):\n",
    "    z = np.dot(w.T, train_X) + b\n",
    "    p = sigmoid(z)\n",
    "    train_cost = -np.sum(np.multiply(np.log(p), train_y) + np.multiply((1 - train_y), np.log(1 - p)))/m\n",
    "    train_losstrack.append(np.squeeze(train_cost))\n",
    "    \n",
    "    val_z = np.dot(w.T, norm_val_X) + b\n",
    "    val_p = sigmoid(val_z)\n",
    "    val_cost = -np.sum(np.multiply(np.log(val_p), val_y) + np.multiply((1 - val_y), np.log(1 - val_p)))/val_m\n",
    "    val_losstrack.append(np.squeeze(val_cost))\n",
    "    \n",
    "    dz = p - train_y\n",
    "    dw = (1 / m) * np.dot(train_X, dz.T)\n",
    "    db = (1 / m) * np.sum(dz)\n",
    "    w = w - learning_rate * dw\n",
    "    b = b - learning_rate * db\n",
    "\n",
    "plt.plot(train_losstrack, label='Training')\n",
    "plt.plot(val_losstrack, label='Validation')\n",
    "plt.legend(loc='upper right')\n",
    "plt.xlabel('Epochs')\n",
    "plt.ylabel('Loss')\n",
    "plt.show()\n",
    "\n",
    "# measure performance on validation set\n",
    "val_X = val_X.T\n",
    "val_z = np.dot(w.T, val_X) + b\n",
    "val_p = sigmoid(val_z)\n",
    "\n",
    "# replace prediction values with 0s and 1s\n",
    "val_p = (val_p > 0.5).astype(int)\n",
    "\n",
    "print('Accuracy score on validation set:', accuracy_score(val_y.T, val_p.T), '\\n')\n",
    "\n",
    "# move on to evaluate performance on the testing set\n",
    "test_X = test_X.T\n",
    "test_y = test_y.values.reshape(1, test_y.shape[0])\n",
    "test_z = np.dot(w.T, test_X) + b\n",
    "test_p = sigmoid(test_z)\n",
    "\n",
    "test_p = (test_p > 0.5).astype(int)\n",
    "print('Accuracy score on test set:', accuracy_score(test_y.T, test_p.T))\n",
    "print('Precision score on test set:', precision_score(test_y.T, test_p.T))\n",
    "print('Recall score on test set:', recall_score(test_y.T, test_p.T))"
   ]
  },
  {
   "cell_type": "code",
   "execution_count": null,
   "metadata": {},
   "outputs": [],
   "source": []
  },
  {
   "cell_type": "code",
   "execution_count": null,
   "metadata": {},
   "outputs": [],
   "source": []
  },
  {
   "cell_type": "code",
   "execution_count": null,
   "metadata": {},
   "outputs": [],
   "source": []
  },
  {
   "cell_type": "code",
   "execution_count": null,
   "metadata": {},
   "outputs": [],
   "source": []
  }
 ],
 "metadata": {
  "kernelspec": {
   "display_name": "Python 3",
   "language": "python",
   "name": "python3"
  },
  "language_info": {
   "codemirror_mode": {
    "name": "ipython",
    "version": 3
   },
   "file_extension": ".py",
   "mimetype": "text/x-python",
   "name": "python",
   "nbconvert_exporter": "python",
   "pygments_lexer": "ipython3",
   "version": "3.6.5"
  }
 },
 "nbformat": 4,
 "nbformat_minor": 2
}
